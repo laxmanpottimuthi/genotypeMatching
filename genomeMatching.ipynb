{
 "cells": [
  {
   "cell_type": "code",
   "execution_count": 1,
   "metadata": {},
   "outputs": [],
   "source": [
    "import pandas as pd\n",
    "from difflib import SequenceMatcher\n"
   ]
  },
  {
   "cell_type": "code",
   "execution_count": 2,
   "metadata": {},
   "outputs": [],
   "source": [
    "\"\"\"\n",
    "Assumptions:\n",
    "1. genotype matches are done only on the colum genotype. Can be extended if that is not the case.\n",
    "2. g1.txt and g2.txt are original files downloaded from the link provided.\n",
    "3. I am removing the lines with are started with \"#\". \n",
    "   From observation of the data, rest of the lines are\n",
    "   clean which was also mentioned in the text of the data.\n",
    "   \n",
    "Output \n",
    "\"\"\"\n",
    "#Cleaning the data files\n",
    "\n",
    "def cleanFiles(files):\n",
    "    for file in (files):\n",
    "        with open(file, \"r+\") as f:\n",
    "            lines = f.readlines()\n",
    "            f.seek(0)\n",
    "            for line in lines:\n",
    "                if not line.startswith('#'):\n",
    "                    f.write(line)\n",
    "            f.truncate()\n",
    "\n",
    "#Case 1: Considering the order of the genotype from first to last in the file matters.\n",
    "def getMatchPercent1(g1,g2):\n",
    "    count = 0\n",
    "    for i, j in zip(g1,g2): \n",
    "        if i == j:\n",
    "            count += 1\n",
    "    return count/len(g1)\n",
    "\n",
    "#Case 2: Considering number fo sequences matched without order.\n",
    "def getMatchPercent2(g1,g2):\n",
    "    return SequenceMatcher(None, g1, g2).ratio()\n",
    "        \n",
    "    \n",
    "def findMatching(files):\n",
    "    cleanFiles(files)\n",
    "    dataFrames = []\n",
    "    for i,file in enumerate(files):\n",
    "        fileName = 'data' + str(i+1)\n",
    "        dataFrames.append(pd.read_csv(file, sep=\"\\t\", header=None))\n",
    "    \n",
    "    #For simplicity taking only two files. \n",
    "    genomeDF1 = dataFrames[0]\n",
    "    genomeDF2 = dataFrames[1]\n",
    "    \n",
    "    g1 = genomeDF1[3].replace('--', '',regex=True)\n",
    "    g2 = genomeDF2[3].replace('--', '',regex=True)\n",
    "    \n",
    "    matchPercentage1 = getMatchPercent1(g1,g2)\n",
    "    matchPercentage2 = getMatchPercent2(g1,g2)\n",
    "    print(\"Case 1 match percentage is \", matchPercentage1)\n",
    "    print(\"Case 2 match percentage is \", matchPercentage2)"
   ]
  },
  {
   "cell_type": "code",
   "execution_count": 3,
   "metadata": {},
   "outputs": [
    {
     "name": "stderr",
     "output_type": "stream",
     "text": [
      "/usr/local/lib/python3.8/site-packages/IPython/core/interactiveshell.py:3337: DtypeWarning: Columns (1) have mixed types.Specify dtype option on import or set low_memory=False.\n",
      "  if (await self.run_code(code, result,  async_=asy)):\n"
     ]
    },
    {
     "name": "stdout",
     "output_type": "stream",
     "text": [
      "Case 1 match percentage is  0.1537509788828463\n",
      "Case 2 match percentage is  0.001708360135893018\n",
      "Case 1 match percentage is  1.0\n",
      "Case 2 match percentage is  1.0\n"
     ]
    }
   ],
   "source": [
    "findMatching(['g1.txt','g2.txt'])\n",
    "findMatching(['g1.txt','g1.txt'])"
   ]
  },
  {
   "cell_type": "code",
   "execution_count": null,
   "metadata": {},
   "outputs": [],
   "source": []
  }
 ],
 "metadata": {
  "kernelspec": {
   "display_name": "Python 3",
   "language": "python",
   "name": "python3"
  },
  "language_info": {
   "codemirror_mode": {
    "name": "ipython",
    "version": 3
   },
   "file_extension": ".py",
   "mimetype": "text/x-python",
   "name": "python",
   "nbconvert_exporter": "python",
   "pygments_lexer": "ipython3",
   "version": "3.8.5"
  }
 },
 "nbformat": 4,
 "nbformat_minor": 4
}
